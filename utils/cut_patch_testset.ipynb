{
 "cells": [
  {
   "cell_type": "code",
   "execution_count": 1,
   "id": "e4108078",
   "metadata": {},
   "outputs": [],
   "source": [
    "import openslide as ops\n",
    "import pandas  as pd\n",
    "import numpy   as np\n",
    "import matplotlib.pyplot as plt\n",
    "import os\n",
    "import imageio\n",
    "from fastprogress import progress_bar\n",
    "from PIL import Image,ImageDraw,ImageEnhance,ImageColor \n",
    "import cv2\n",
    "import copy\n",
    "import scipy.ndimage as ndimage \n",
    "import random\n",
    "import datetime\n",
    "import json\n",
    "import skimage.io as io\n",
    "import pylab\n",
    "import xmltodict\n",
    "from decimal import Decimal, ROUND_HALF_UP\n",
    "from shutil import copyfile\n",
    "Image.MAX_IMAGE_PIXELS = 10000000000\n",
    "def round_dec(n, d=2):\n",
    "    s = '0.' + '0' * d\n",
    "    return Decimal(str(n)).quantize(Decimal(s), rounding=ROUND_HALF_UP)"
   ]
  },
  {
   "cell_type": "code",
   "execution_count": 14,
   "id": "d0c0ca0d",
   "metadata": {},
   "outputs": [
    {
     "name": "stdout",
     "output_type": "stream",
     "text": [
      "./data/bad xml/5/xml/5_0.xml\n",
      "./data/bad xml/5/xml/5_1.xml\n",
      "./data/bad xml/5/xml/5_2.xml\n",
      "./data/bad xml/5/xml/5_3.xml\n",
      "./data/bad xml/5/xml/5_4.xml\n",
      "./data/bad xml/5/xml/5_5.xml\n",
      "./data/bad xml/5/xml/5_6.xml\n",
      "./data/bad xml/5/xml/5_7.xml\n",
      "./data/bad xml/5/xml/5_8.xml\n",
      "./data/bad xml/5/xml/5_9.xml\n",
      "./data/bad xml/5/xml/5_10.xml\n",
      "./data/bad xml/5/xml/5_11.xml\n",
      "./data/bad xml/5/xml/5_12.xml\n",
      "./data/bad xml/5/xml/5_13.xml\n",
      "./data/bad xml/5/xml/5_14.xml\n",
      "./data/bad xml/5/xml/5_15.xml\n",
      "./data/bad xml/5/xml/5_16.xml\n",
      "./data/bad xml/5/xml/5_17.xml\n",
      "./data/bad xml/5/xml/5_18.xml\n",
      "./data/bad xml/5/xml/5_19.xml\n",
      "./data/bad xml/5/xml/5_20.xml\n",
      "./data/bad xml/5/xml/5_21.xml\n"
     ]
    }
   ],
   "source": [
    "types = 5\n",
    "\n",
    "for i_xml in range(0,22):\n",
    "\n",
    "    print(r'./data/bad xml/' + str(types) + '/xml/' + str(types) + '_' + str(i_xml) + r'.xml')"
   ]
  },
  {
   "cell_type": "code",
   "execution_count": 13,
   "id": "3c6b2a0d",
   "metadata": {},
   "outputs": [
    {
     "name": "stdout",
     "output_type": "stream",
     "text": [
      "./data/5/svs/5_0.xml\n",
      "./data/5/svs/5_1.xml\n",
      "./data/5/svs/5_2.xml\n",
      "./data/5/svs/5_3.xml\n",
      "./data/5/svs/5_4.xml\n",
      "./data/5/svs/5_5.xml\n",
      "./data/5/svs/5_6.xml\n",
      "./data/5/svs/5_7.xml\n",
      "./data/5/svs/5_8.xml\n",
      "./data/5/svs/5_9.xml\n",
      "./data/5/svs/5_10.xml\n",
      "./data/5/svs/5_11.xml\n",
      "./data/5/svs/5_12.xml\n",
      "./data/5/svs/5_13.xml\n",
      "./data/5/svs/5_14.xml\n",
      "./data/5/svs/5_15.xml\n",
      "./data/5/svs/5_16.xml\n",
      "./data/5/svs/5_17.xml\n",
      "./data/5/svs/5_18.xml\n",
      "./data/5/svs/5_19.xml\n",
      "./data/5/svs/5_20.xml\n",
      "./data/5/svs/5_21.xml\n"
     ]
    }
   ],
   "source": [
    "types = 5\n",
    "\n",
    "for i_xml in range(0,22):\n",
    "\n",
    "    print(r'./data/' + str(types) + '/svs/' + str(types) + '_' + str(i_xml) + r'.xml')"
   ]
  },
  {
   "cell_type": "code",
   "execution_count": 16,
   "id": "86f2d601",
   "metadata": {},
   "outputs": [],
   "source": [
    "allcontours = []"
   ]
  },
  {
   "cell_type": "code",
   "execution_count": 28,
   "id": "875d0147",
   "metadata": {},
   "outputs": [],
   "source": [
    "types = 1\n",
    "allcontours = []\n",
    "for i_xml in range(0,47):\n",
    "# for i_xml in range(5,6):\n",
    "    contours = []\n",
    "    with open(r'./data/bad xml/' + str(types) + '/xml/' + str(types) + '_' + str(i_xml) + r'.xml') as fd:\n",
    "        doc = xmltodict.parse(fd.read(), dict_constructor=dict)\n",
    "        doc1 = copy.deepcopy(doc)\n",
    "        \n",
    "        if('Vertices' in doc1['Annotations']['Annotation']['Regions']['Region']):\n",
    "            contours_temp = []\n",
    "            obj2 = len(doc1['Annotations']['Annotation']['Regions']['Region']['Vertices']['Vertex'])-1\n",
    "#             print(obj2)\n",
    "            if(obj2>2):\n",
    "                while(obj2 != -1):\n",
    "                    bx1 = int(round_dec((doc1['Annotations']['Annotation']['Regions']['Region']['Vertices']['Vertex'][obj2]['@X']),0))\n",
    "                    by1 = int(round_dec((doc1['Annotations']['Annotation']['Regions']['Region']['Vertices']['Vertex'][obj2]['@Y']),0))\n",
    "            #         draw.rectangle([bx1,by1,bx2,by2], outline=(0,255,0))\n",
    "                    contours_temp.append(bx1)\n",
    "                    contours_temp.append(by1)\n",
    "                    obj2-=1\n",
    "#                     print(bx1,by1)\n",
    "                contours.append(contours_temp)\n",
    "        else:    \n",
    "            obj = len(doc1['Annotations']['Annotation']['Regions']['Region'])-1\n",
    "            while(obj != -1):\n",
    "                contours_temp = []\n",
    "                obj2 = len(doc1['Annotations']['Annotation']['Regions']['Region'][obj]['Vertices']['Vertex'])-1\n",
    "    #             print(obj2)\n",
    "                if(obj2>2):\n",
    "                    while(obj2 != -1):\n",
    "                        bx1 = int(round_dec((doc1['Annotations']['Annotation']['Regions']['Region'][obj]['Vertices']['Vertex'][obj2]['@X']),0))\n",
    "                        by1 = int(round_dec((doc1['Annotations']['Annotation']['Regions']['Region'][obj]['Vertices']['Vertex'][obj2]['@Y']),0))\n",
    "                #         draw.rectangle([bx1,by1,bx2,by2], outline=(0,255,0))\n",
    "                        contours_temp.append(bx1)\n",
    "                        contours_temp.append(by1)\n",
    "                        obj2-=1\n",
    "                    contours.append(contours_temp)\n",
    "                obj-=1\n",
    "    allcontours.append(contours)\n",
    "np.save(r\"./data/\" + str(types) + \"_bad\",allcontours)"
   ]
  },
  {
   "cell_type": "code",
   "execution_count": 29,
   "id": "47d30ade",
   "metadata": {},
   "outputs": [
    {
     "data": {
      "text/plain": [
       "47"
      ]
     },
     "execution_count": 29,
     "metadata": {},
     "output_type": "execute_result"
    }
   ],
   "source": [
    "len(allcontours)"
   ]
  },
  {
   "cell_type": "code",
   "execution_count": 31,
   "id": "2839c878",
   "metadata": {},
   "outputs": [
    {
     "data": {
      "text/plain": [
       "1"
      ]
     },
     "execution_count": 31,
     "metadata": {},
     "output_type": "execute_result"
    }
   ],
   "source": [
    "len(allcontours[0])"
   ]
  },
  {
   "cell_type": "code",
   "execution_count": 44,
   "id": "2dd1f487",
   "metadata": {},
   "outputs": [
    {
     "data": {
      "text/html": [
       "\n",
       "    <div>\n",
       "        <style>\n",
       "            /* Turns off some styling */\n",
       "            progress {\n",
       "                /* gets rid of default border in Firefox and Opera. */\n",
       "                border: none;\n",
       "                /* Needs to be in here for Safari polyfill so background images work as expected. */\n",
       "                background-size: auto;\n",
       "            }\n",
       "            .progress-bar-interrupted, .progress-bar-interrupted::-webkit-progress-bar {\n",
       "                background: #F44336;\n",
       "            }\n",
       "        </style>\n",
       "      <progress value='65' class='' max='65' style='width:300px; height:20px; vertical-align: middle;'></progress>\n",
       "      100.00% [65/65 15:50<00:00]\n",
       "    </div>\n",
       "    "
      ],
      "text/plain": [
       "<IPython.core.display.HTML object>"
      ]
     },
     "metadata": {},
     "output_type": "display_data"
    }
   ],
   "source": [
    "types = 7\n",
    "temp_anno = np.load('./data/' + str(types) + '_bad.npy',allow_pickle=True)\n",
    "\n",
    "for mask_id in progress_bar(range(0,len(temp_anno))):\n",
    "    \n",
    "    tif = ops.open_slide(r'./data/' + str(types) + '/svs/' + str(types) + '_' + str(mask_id) + r'.svs')\n",
    "\n",
    "    temp_cord = copy.deepcopy(temp_anno[mask_id])\n",
    "\n",
    "    x, y = tif.dimensions[1],tif.dimensions[0]\n",
    "    \n",
    "    temp_mask = np.zeros((x,y), dtype = np.uint8)\n",
    "    image_draw = Image.fromarray(temp_mask)\n",
    "    # image_draw = Image.fromarray(np.asarray(test_img[r_in,:,:,0], dtype = np.uint8)).convert('RGB')\n",
    "\n",
    "\n",
    "    draw = ImageDraw.Draw(image_draw)\n",
    "    for annos in temp_cord:\n",
    "        draw.polygon(annos,  outline=\"white\", fill=\"white\" )\n",
    "#         print(annos)\n",
    "\n",
    "    image_draw.save('./data/badmask/' + str(types) + '/' + str(mask_id) + '.png')\n",
    "            "
   ]
  },
  {
   "cell_type": "code",
   "execution_count": 50,
   "id": "d3372e75",
   "metadata": {},
   "outputs": [
    {
     "name": "stdout",
     "output_type": "stream",
     "text": [
      "./train/train/7/svs/7_0.svs\n",
      "./train/train/7/svs/7_1.svs\n",
      "./train/train/7/svs/7_2.svs\n",
      "./train/train/7/svs/7_3.svs\n",
      "./train/train/7/svs/7_4.svs\n",
      "./train/train/7/svs/7_5.svs\n",
      "./train/train/7/svs/7_6.svs\n",
      "./train/train/7/svs/7_7.svs\n",
      "./train/train/7/svs/7_8.svs\n",
      "./train/train/7/svs/7_9.svs\n",
      "./train/train/7/svs/7_10.svs\n",
      "./train/train/7/svs/7_11.svs\n",
      "./train/train/7/svs/7_12.svs\n",
      "./train/train/7/svs/7_13.svs\n",
      "./train/train/7/svs/7_14.svs\n",
      "./train/train/7/svs/7_15.svs\n",
      "./train/train/7/svs/7_16.svs\n",
      "./train/train/7/svs/7_17.svs\n",
      "./train/train/7/svs/7_18.svs\n",
      "./train/train/7/svs/7_19.svs\n",
      "./train/train/7/svs/7_20.svs\n",
      "./train/train/7/svs/7_21.svs\n",
      "./train/train/7/svs/7_22.svs\n",
      "./train/train/7/svs/7_23.svs\n",
      "./train/train/7/svs/7_24.svs\n",
      "./train/train/7/svs/7_25.svs\n",
      "./train/train/7/svs/7_26.svs\n",
      "./train/train/7/svs/7_27.svs\n",
      "./train/train/7/svs/7_28.svs\n",
      "./train/train/7/svs/7_29.svs\n",
      "./train/train/7/svs/7_30.svs\n",
      "./train/train/7/svs/7_31.svs\n",
      "./train/train/7/svs/7_32.svs\n",
      "./train/train/7/svs/7_33.svs\n",
      "./train/train/7/svs/7_34.svs\n",
      "./train/train/7/svs/7_35.svs\n",
      "./train/train/7/svs/7_36.svs\n",
      "./train/train/7/svs/7_37.svs\n",
      "./train/train/7/svs/7_38.svs\n",
      "./train/train/7/svs/7_39.svs\n",
      "./train/train/7/svs/7_40.svs\n",
      "./train/train/7/svs/7_41.svs\n",
      "./train/train/7/svs/7_42.svs\n",
      "./train/train/7/svs/7_43.svs\n",
      "./train/train/7/svs/7_44.svs\n",
      "./train/train/7/svs/7_45.svs\n",
      "./train/train/7/svs/7_46.svs\n"
     ]
    }
   ],
   "source": [
    "for i_xml in range(0,47):\n",
    "# for i_xml in range(5,6):\n",
    "    \n",
    "    print(r'./train/train/' + str(types) + '/svs/' + str(types) + '_' + str(i_xml) + r'.svs')"
   ]
  },
  {
   "cell_type": "code",
   "execution_count": 60,
   "id": "5f3c274d",
   "metadata": {},
   "outputs": [],
   "source": [
    "types = 1\n",
    "for i_xml in range(0,100):\n",
    "# for i_xml in range(5,6):\n",
    "    contours = []\n",
    "    if(os.path.exists(r'./train/train/' + str(types) + '/good/' + str(types) + '_' + str(i_xml) + r'.xml')==True and os.path.exists(r'./train/train/' + str(types) + '/svs/' + str(types) + '_' + str(i_xml) + r'.svs')==True):\n",
    "        with open(r'./train/train/' + str(types) + '/good/' + str(types) + '_' + str(i_xml) + r'.xml') as fd:\n",
    "            doc = xmltodict.parse(fd.read(), dict_constructor=dict)\n",
    "            doc1 = copy.deepcopy(doc)\n",
    "\n",
    "            if(\"Coordinates\" in doc1['ASAP_Annotations']['Annotations']['Annotation']):\n",
    "                contours_temp = []\n",
    "                obj2 = len(doc1['ASAP_Annotations']['Annotations']['Annotation']['Coordinates']['Coordinate'])-1\n",
    "    #             print(obj2)\n",
    "                if(obj2>2):\n",
    "                    while(obj2 != -1):\n",
    "                        bx1 = int(round_dec((doc1['ASAP_Annotations']['Annotations']['Annotation']['Coordinates']['Coordinate'][obj2]['@X']),0))\n",
    "                        by1 = int(round_dec((doc1['ASAP_Annotations']['Annotations']['Annotation']['Coordinates']['Coordinate'][obj2]['@Y']),0))\n",
    "                #         draw.rectangle([bx1,by1,bx2,by2], outline=(0,255,0))\n",
    "                        contours_temp.append(bx1)\n",
    "                        contours_temp.append(by1)\n",
    "                        obj2-=1\n",
    "    #                     print(bx1,by1)\n",
    "                    contours.append(contours_temp)\n",
    "\n",
    "            else:        \n",
    "                obj = len(doc1['ASAP_Annotations']['Annotations']['Annotation'])-1\n",
    "        #         print(obj)\n",
    "\n",
    "                while(obj != -1):\n",
    "                    contours_temp = []\n",
    "                    obj2 = len(doc1['ASAP_Annotations']['Annotations']['Annotation'][obj]['Coordinates']['Coordinate'])-1\n",
    "        #             print(obj2)\n",
    "                    if(obj2>2):\n",
    "                        while(obj2 != -1):\n",
    "                            bx1 = int(round_dec((doc1['ASAP_Annotations']['Annotations']['Annotation'][obj]['Coordinates']['Coordinate'][obj2]['@X']),0))\n",
    "                            by1 = int(round_dec((doc1['ASAP_Annotations']['Annotations']['Annotation'][obj]['Coordinates']['Coordinate'][obj2]['@Y']),0))\n",
    "                    #         draw.rectangle([bx1,by1,bx2,by2], outline=(0,255,0))\n",
    "                            contours_temp.append(bx1)\n",
    "                            contours_temp.append(by1)\n",
    "                            obj2-=1\n",
    "                        contours.append(contours_temp)\n",
    "                    obj-=1\n",
    "        \n",
    "#         allcontours.append(contours)\n",
    "\n",
    "\n",
    "        tif = ops.open_slide(r'./train/train/' + str(types) + '/svs/' + str(types) + '_' + str(i_xml) + r'.svs')\n",
    "\n",
    "        temp_cord = copy.deepcopy(contours)\n",
    "\n",
    "        x, y = tif.dimensions[1],tif.dimensions[0]\n",
    "\n",
    "        temp_mask = np.zeros((x,y), dtype = np.uint8)\n",
    "        image_draw = Image.fromarray(temp_mask)\n",
    "        # image_draw = Image.fromarray(np.asarray(test_img[r_in,:,:,0], dtype = np.uint8)).convert('RGB')\n",
    "\n",
    "\n",
    "        draw = ImageDraw.Draw(image_draw)\n",
    "        for annos in temp_cord:\n",
    "            draw.polygon(annos,  outline=\"white\", fill=\"white\" )\n",
    "    #         print(annos)\n",
    "\n",
    "        image_draw.save(r'./train/train/' + str(types) + '/svs/' + str(types) + '_' + str(i_xml) + r'_good.png')\n"
   ]
  },
  {
   "cell_type": "code",
   "execution_count": 58,
   "id": "193addc9",
   "metadata": {},
   "outputs": [],
   "source": [
    "types = 1\n",
    "for i_xml in range(0,100):\n",
    "# for i_xml in range(5,6):\n",
    "    contours = []\n",
    "    if(os.path.exists(r'./train/train/' + str(types) + '/bad/' + str(types) + '_' + str(i_xml) + r'.xml')==True and os.path.exists(r'./train/train/' + str(types) + '/svs/' + str(types) + '_' + str(i_xml) + r'.svs')==True):\n",
    "        with open(r'./train/train/' + str(types) + '/bad/' + str(types) + '_' + str(i_xml) + r'.xml') as fd:\n",
    "            doc = xmltodict.parse(fd.read(), dict_constructor=dict)\n",
    "            doc1 = copy.deepcopy(doc)\n",
    "\n",
    "            if('Vertices' in doc1['Annotations']['Annotation']['Regions']['Region']):\n",
    "                contours_temp = []\n",
    "                obj2 = len(doc1['Annotations']['Annotation']['Regions']['Region']['Vertices']['Vertex'])-1\n",
    "    #             print(obj2)\n",
    "                if(obj2>2):\n",
    "                    while(obj2 != -1):\n",
    "                        bx1 = int(round_dec((doc1['Annotations']['Annotation']['Regions']['Region']['Vertices']['Vertex'][obj2]['@X']),0))\n",
    "                        by1 = int(round_dec((doc1['Annotations']['Annotation']['Regions']['Region']['Vertices']['Vertex'][obj2]['@Y']),0))\n",
    "                #         draw.rectangle([bx1,by1,bx2,by2], outline=(0,255,0))\n",
    "                        contours_temp.append(bx1)\n",
    "                        contours_temp.append(by1)\n",
    "                        obj2-=1\n",
    "    #                     print(bx1,by1)\n",
    "                    contours.append(contours_temp)\n",
    "            else:    \n",
    "                obj = len(doc1['Annotations']['Annotation']['Regions']['Region'])-1\n",
    "                while(obj != -1):\n",
    "                    contours_temp = []\n",
    "                    obj2 = len(doc1['Annotations']['Annotation']['Regions']['Region'][obj]['Vertices']['Vertex'])-1\n",
    "        #             print(obj2)\n",
    "                    if(obj2>2):\n",
    "                        while(obj2 != -1):\n",
    "                            bx1 = int(round_dec((doc1['Annotations']['Annotation']['Regions']['Region'][obj]['Vertices']['Vertex'][obj2]['@X']),0))\n",
    "                            by1 = int(round_dec((doc1['Annotations']['Annotation']['Regions']['Region'][obj]['Vertices']['Vertex'][obj2]['@Y']),0))\n",
    "                    #         draw.rectangle([bx1,by1,bx2,by2], outline=(0,255,0))\n",
    "                            contours_temp.append(bx1)\n",
    "                            contours_temp.append(by1)\n",
    "                            obj2-=1\n",
    "                        contours.append(contours_temp)\n",
    "                    obj-=1\n",
    "#         allcontours.append(contours)\n",
    "    # np.save(r\"./data/\" + str(types) + \"_bad\",allcontours)\n",
    "\n",
    "\n",
    "        tif = ops.open_slide(r'./train/train/' + str(types) + '/svs/' + str(types) + '_' + str(i_xml) + r'.svs')\n",
    "\n",
    "        temp_cord = copy.deepcopy(contours)\n",
    "\n",
    "        x, y = tif.dimensions[1],tif.dimensions[0]\n",
    "\n",
    "        temp_mask = np.zeros((x,y), dtype = np.uint8)\n",
    "        image_draw = Image.fromarray(temp_mask)\n",
    "        # image_draw = Image.fromarray(np.asarray(test_img[r_in,:,:,0], dtype = np.uint8)).convert('RGB')\n",
    "\n",
    "\n",
    "        draw = ImageDraw.Draw(image_draw)\n",
    "        for annos in temp_cord:\n",
    "            draw.polygon(annos,  outline=\"white\", fill=\"white\" )\n",
    "    #         print(annos)\n",
    "\n",
    "        image_draw.save(r'./train/train/' + str(types) + '/svs/' + str(types) + '_' + str(i_xml) + r'_bad.png')\n"
   ]
  },
  {
   "cell_type": "code",
   "execution_count": 59,
   "id": "92154375",
   "metadata": {},
   "outputs": [],
   "source": [
    "types = 1\n",
    "for i_xml in range(0,100):\n",
    "# for i_xml in range(5,6):\n",
    "    contours = []\n",
    "    if(os.path.exists(r'./train/test/' + str(types) + '/bad/' + str(types) + '_' + str(i_xml) + r'.xml')==True and os.path.exists(r'./train/test/' + str(types) + '/svs/' + str(types) + '_' + str(i_xml) + r'.svs')==True):\n",
    "        with open(r'./train/test/' + str(types) + '/bad/' + str(types) + '_' + str(i_xml) + r'.xml') as fd:\n",
    "            doc = xmltodict.parse(fd.read(), dict_constructor=dict)\n",
    "            doc1 = copy.deepcopy(doc)\n",
    "\n",
    "            if('Vertices' in doc1['Annotations']['Annotation']['Regions']['Region']):\n",
    "                contours_temp = []\n",
    "                obj2 = len(doc1['Annotations']['Annotation']['Regions']['Region']['Vertices']['Vertex'])-1\n",
    "    #             print(obj2)\n",
    "                if(obj2>2):\n",
    "                    while(obj2 != -1):\n",
    "                        bx1 = int(round_dec((doc1['Annotations']['Annotation']['Regions']['Region']['Vertices']['Vertex'][obj2]['@X']),0))\n",
    "                        by1 = int(round_dec((doc1['Annotations']['Annotation']['Regions']['Region']['Vertices']['Vertex'][obj2]['@Y']),0))\n",
    "                #         draw.rectangle([bx1,by1,bx2,by2], outline=(0,255,0))\n",
    "                        contours_temp.append(bx1)\n",
    "                        contours_temp.append(by1)\n",
    "                        obj2-=1\n",
    "    #                     print(bx1,by1)\n",
    "                    contours.append(contours_temp)\n",
    "            else:    \n",
    "                obj = len(doc1['Annotations']['Annotation']['Regions']['Region'])-1\n",
    "                while(obj != -1):\n",
    "                    contours_temp = []\n",
    "                    obj2 = len(doc1['Annotations']['Annotation']['Regions']['Region'][obj]['Vertices']['Vertex'])-1\n",
    "        #             print(obj2)\n",
    "                    if(obj2>2):\n",
    "                        while(obj2 != -1):\n",
    "                            bx1 = int(round_dec((doc1['Annotations']['Annotation']['Regions']['Region'][obj]['Vertices']['Vertex'][obj2]['@X']),0))\n",
    "                            by1 = int(round_dec((doc1['Annotations']['Annotation']['Regions']['Region'][obj]['Vertices']['Vertex'][obj2]['@Y']),0))\n",
    "                    #         draw.rectangle([bx1,by1,bx2,by2], outline=(0,255,0))\n",
    "                            contours_temp.append(bx1)\n",
    "                            contours_temp.append(by1)\n",
    "                            obj2-=1\n",
    "                        contours.append(contours_temp)\n",
    "                    obj-=1\n",
    "#         allcontours.append(contours)\n",
    "    # np.save(r\"./data/\" + str(types) + \"_bad\",allcontours)\n",
    "\n",
    "\n",
    "        tif = ops.open_slide(r'./train/test/' + str(types) + '/svs/' + str(types) + '_' + str(i_xml) + r'.svs')\n",
    "\n",
    "        temp_cord = copy.deepcopy(contours)\n",
    "\n",
    "        x, y = tif.dimensions[1],tif.dimensions[0]\n",
    "\n",
    "        temp_mask = np.zeros((x,y), dtype = np.uint8)\n",
    "        image_draw = Image.fromarray(temp_mask)\n",
    "        # image_draw = Image.fromarray(np.asarray(test_img[r_in,:,:,0], dtype = np.uint8)).convert('RGB')\n",
    "\n",
    "\n",
    "        draw = ImageDraw.Draw(image_draw)\n",
    "        for annos in temp_cord:\n",
    "            draw.polygon(annos,  outline=\"white\", fill=\"white\" )\n",
    "    #         print(annos)\n",
    "\n",
    "        image_draw.save(r'./train/test/' + str(types) + '/svs/' + str(types) + '_' + str(i_xml) + r'_bad.png')\n"
   ]
  },
  {
   "cell_type": "code",
   "execution_count": null,
   "id": "17e5cc97",
   "metadata": {},
   "outputs": [],
   "source": []
  },
  {
   "cell_type": "code",
   "execution_count": 69,
   "id": "afa0bdb5",
   "metadata": {},
   "outputs": [],
   "source": [
    "\n"
   ]
  },
  {
   "cell_type": "code",
   "execution_count": 82,
   "id": "9a4939d1",
   "metadata": {},
   "outputs": [
    {
     "data": {
      "text/html": [
       "\n",
       "    <div>\n",
       "        <style>\n",
       "            /* Turns off some styling */\n",
       "            progress {\n",
       "                /* gets rid of default border in Firefox and Opera. */\n",
       "                border: none;\n",
       "                /* Needs to be in here for Safari polyfill so background images work as expected. */\n",
       "                background-size: auto;\n",
       "            }\n",
       "            .progress-bar-interrupted, .progress-bar-interrupted::-webkit-progress-bar {\n",
       "                background: #F44336;\n",
       "            }\n",
       "        </style>\n",
       "      <progress value='100' class='' max='100' style='width:300px; height:20px; vertical-align: middle;'></progress>\n",
       "      100.00% [100/100 1:22:58<00:00]\n",
       "    </div>\n",
       "    "
      ],
      "text/plain": [
       "<IPython.core.display.HTML object>"
      ]
     },
     "metadata": {},
     "output_type": "display_data"
    },
    {
     "data": {
      "text/html": [
       "\n",
       "    <div>\n",
       "        <style>\n",
       "            /* Turns off some styling */\n",
       "            progress {\n",
       "                /* gets rid of default border in Firefox and Opera. */\n",
       "                border: none;\n",
       "                /* Needs to be in here for Safari polyfill so background images work as expected. */\n",
       "                background-size: auto;\n",
       "            }\n",
       "            .progress-bar-interrupted, .progress-bar-interrupted::-webkit-progress-bar {\n",
       "                background: #F44336;\n",
       "            }\n",
       "        </style>\n",
       "      <progress value='78' class='' max='78' style='width:300px; height:20px; vertical-align: middle;'></progress>\n",
       "      100.00% [78/78 01:46<00:00]\n",
       "    </div>\n",
       "    "
      ],
      "text/plain": [
       "<IPython.core.display.HTML object>"
      ]
     },
     "metadata": {},
     "output_type": "display_data"
    },
    {
     "data": {
      "text/html": [
       "\n",
       "    <div>\n",
       "        <style>\n",
       "            /* Turns off some styling */\n",
       "            progress {\n",
       "                /* gets rid of default border in Firefox and Opera. */\n",
       "                border: none;\n",
       "                /* Needs to be in here for Safari polyfill so background images work as expected. */\n",
       "                background-size: auto;\n",
       "            }\n",
       "            .progress-bar-interrupted, .progress-bar-interrupted::-webkit-progress-bar {\n",
       "                background: #F44336;\n",
       "            }\n",
       "        </style>\n",
       "      <progress value='179' class='' max='179' style='width:300px; height:20px; vertical-align: middle;'></progress>\n",
       "      100.00% [179/179 06:18<00:00]\n",
       "    </div>\n",
       "    "
      ],
      "text/plain": [
       "<IPython.core.display.HTML object>"
      ]
     },
     "metadata": {},
     "output_type": "display_data"
    },
    {
     "data": {
      "text/html": [
       "\n",
       "    <div>\n",
       "        <style>\n",
       "            /* Turns off some styling */\n",
       "            progress {\n",
       "                /* gets rid of default border in Firefox and Opera. */\n",
       "                border: none;\n",
       "                /* Needs to be in here for Safari polyfill so background images work as expected. */\n",
       "                background-size: auto;\n",
       "            }\n",
       "            .progress-bar-interrupted, .progress-bar-interrupted::-webkit-progress-bar {\n",
       "                background: #F44336;\n",
       "            }\n",
       "        </style>\n",
       "      <progress value='179' class='' max='179' style='width:300px; height:20px; vertical-align: middle;'></progress>\n",
       "      100.00% [179/179 06:36<00:00]\n",
       "    </div>\n",
       "    "
      ],
      "text/plain": [
       "<IPython.core.display.HTML object>"
      ]
     },
     "metadata": {},
     "output_type": "display_data"
    },
    {
     "data": {
      "text/html": [
       "\n",
       "    <div>\n",
       "        <style>\n",
       "            /* Turns off some styling */\n",
       "            progress {\n",
       "                /* gets rid of default border in Firefox and Opera. */\n",
       "                border: none;\n",
       "                /* Needs to be in here for Safari polyfill so background images work as expected. */\n",
       "                background-size: auto;\n",
       "            }\n",
       "            .progress-bar-interrupted, .progress-bar-interrupted::-webkit-progress-bar {\n",
       "                background: #F44336;\n",
       "            }\n",
       "        </style>\n",
       "      <progress value='164' class='' max='164' style='width:300px; height:20px; vertical-align: middle;'></progress>\n",
       "      100.00% [164/164 04:35<00:00]\n",
       "    </div>\n",
       "    "
      ],
      "text/plain": [
       "<IPython.core.display.HTML object>"
      ]
     },
     "metadata": {},
     "output_type": "display_data"
    },
    {
     "data": {
      "text/html": [
       "\n",
       "    <div>\n",
       "        <style>\n",
       "            /* Turns off some styling */\n",
       "            progress {\n",
       "                /* gets rid of default border in Firefox and Opera. */\n",
       "                border: none;\n",
       "                /* Needs to be in here for Safari polyfill so background images work as expected. */\n",
       "                background-size: auto;\n",
       "            }\n",
       "            .progress-bar-interrupted, .progress-bar-interrupted::-webkit-progress-bar {\n",
       "                background: #F44336;\n",
       "            }\n",
       "        </style>\n",
       "      <progress value='105' class='' max='105' style='width:300px; height:20px; vertical-align: middle;'></progress>\n",
       "      100.00% [105/105 02:42<00:00]\n",
       "    </div>\n",
       "    "
      ],
      "text/plain": [
       "<IPython.core.display.HTML object>"
      ]
     },
     "metadata": {},
     "output_type": "display_data"
    },
    {
     "data": {
      "text/html": [
       "\n",
       "    <div>\n",
       "        <style>\n",
       "            /* Turns off some styling */\n",
       "            progress {\n",
       "                /* gets rid of default border in Firefox and Opera. */\n",
       "                border: none;\n",
       "                /* Needs to be in here for Safari polyfill so background images work as expected. */\n",
       "                background-size: auto;\n",
       "            }\n",
       "            .progress-bar-interrupted, .progress-bar-interrupted::-webkit-progress-bar {\n",
       "                background: #F44336;\n",
       "            }\n",
       "        </style>\n",
       "      <progress value='140' class='' max='140' style='width:300px; height:20px; vertical-align: middle;'></progress>\n",
       "      100.00% [140/140 03:45<00:00]\n",
       "    </div>\n",
       "    "
      ],
      "text/plain": [
       "<IPython.core.display.HTML object>"
      ]
     },
     "metadata": {},
     "output_type": "display_data"
    },
    {
     "data": {
      "text/html": [
       "\n",
       "    <div>\n",
       "        <style>\n",
       "            /* Turns off some styling */\n",
       "            progress {\n",
       "                /* gets rid of default border in Firefox and Opera. */\n",
       "                border: none;\n",
       "                /* Needs to be in here for Safari polyfill so background images work as expected. */\n",
       "                background-size: auto;\n",
       "            }\n",
       "            .progress-bar-interrupted, .progress-bar-interrupted::-webkit-progress-bar {\n",
       "                background: #F44336;\n",
       "            }\n",
       "        </style>\n",
       "      <progress value='74' class='' max='74' style='width:300px; height:20px; vertical-align: middle;'></progress>\n",
       "      100.00% [74/74 02:06<00:00]\n",
       "    </div>\n",
       "    "
      ],
      "text/plain": [
       "<IPython.core.display.HTML object>"
      ]
     },
     "metadata": {},
     "output_type": "display_data"
    },
    {
     "data": {
      "text/html": [
       "\n",
       "    <div>\n",
       "        <style>\n",
       "            /* Turns off some styling */\n",
       "            progress {\n",
       "                /* gets rid of default border in Firefox and Opera. */\n",
       "                border: none;\n",
       "                /* Needs to be in here for Safari polyfill so background images work as expected. */\n",
       "                background-size: auto;\n",
       "            }\n",
       "            .progress-bar-interrupted, .progress-bar-interrupted::-webkit-progress-bar {\n",
       "                background: #F44336;\n",
       "            }\n",
       "        </style>\n",
       "      <progress value='171' class='' max='171' style='width:300px; height:20px; vertical-align: middle;'></progress>\n",
       "      100.00% [171/171 07:30<00:00]\n",
       "    </div>\n",
       "    "
      ],
      "text/plain": [
       "<IPython.core.display.HTML object>"
      ]
     },
     "metadata": {},
     "output_type": "display_data"
    },
    {
     "data": {
      "text/html": [
       "\n",
       "    <div>\n",
       "        <style>\n",
       "            /* Turns off some styling */\n",
       "            progress {\n",
       "                /* gets rid of default border in Firefox and Opera. */\n",
       "                border: none;\n",
       "                /* Needs to be in here for Safari polyfill so background images work as expected. */\n",
       "                background-size: auto;\n",
       "            }\n",
       "            .progress-bar-interrupted, .progress-bar-interrupted::-webkit-progress-bar {\n",
       "                background: #F44336;\n",
       "            }\n",
       "        </style>\n",
       "      <progress value='128' class='' max='128' style='width:300px; height:20px; vertical-align: middle;'></progress>\n",
       "      100.00% [128/128 03:37<00:00]\n",
       "    </div>\n",
       "    "
      ],
      "text/plain": [
       "<IPython.core.display.HTML object>"
      ]
     },
     "metadata": {},
     "output_type": "display_data"
    },
    {
     "data": {
      "text/html": [
       "\n",
       "    <div>\n",
       "        <style>\n",
       "            /* Turns off some styling */\n",
       "            progress {\n",
       "                /* gets rid of default border in Firefox and Opera. */\n",
       "                border: none;\n",
       "                /* Needs to be in here for Safari polyfill so background images work as expected. */\n",
       "                background-size: auto;\n",
       "            }\n",
       "            .progress-bar-interrupted, .progress-bar-interrupted::-webkit-progress-bar {\n",
       "                background: #F44336;\n",
       "            }\n",
       "        </style>\n",
       "      <progress value='105' class='' max='105' style='width:300px; height:20px; vertical-align: middle;'></progress>\n",
       "      100.00% [105/105 03:31<00:00]\n",
       "    </div>\n",
       "    "
      ],
      "text/plain": [
       "<IPython.core.display.HTML object>"
      ]
     },
     "metadata": {},
     "output_type": "display_data"
    },
    {
     "data": {
      "text/html": [
       "\n",
       "    <div>\n",
       "        <style>\n",
       "            /* Turns off some styling */\n",
       "            progress {\n",
       "                /* gets rid of default border in Firefox and Opera. */\n",
       "                border: none;\n",
       "                /* Needs to be in here for Safari polyfill so background images work as expected. */\n",
       "                background-size: auto;\n",
       "            }\n",
       "            .progress-bar-interrupted, .progress-bar-interrupted::-webkit-progress-bar {\n",
       "                background: #F44336;\n",
       "            }\n",
       "        </style>\n",
       "      <progress value='148' class='' max='148' style='width:300px; height:20px; vertical-align: middle;'></progress>\n",
       "      100.00% [148/148 04:27<00:00]\n",
       "    </div>\n",
       "    "
      ],
      "text/plain": [
       "<IPython.core.display.HTML object>"
      ]
     },
     "metadata": {},
     "output_type": "display_data"
    },
    {
     "data": {
      "text/html": [
       "\n",
       "    <div>\n",
       "        <style>\n",
       "            /* Turns off some styling */\n",
       "            progress {\n",
       "                /* gets rid of default border in Firefox and Opera. */\n",
       "                border: none;\n",
       "                /* Needs to be in here for Safari polyfill so background images work as expected. */\n",
       "                background-size: auto;\n",
       "            }\n",
       "            .progress-bar-interrupted, .progress-bar-interrupted::-webkit-progress-bar {\n",
       "                background: #F44336;\n",
       "            }\n",
       "        </style>\n",
       "      <progress value='140' class='' max='140' style='width:300px; height:20px; vertical-align: middle;'></progress>\n",
       "      100.00% [140/140 03:24<00:00]\n",
       "    </div>\n",
       "    "
      ],
      "text/plain": [
       "<IPython.core.display.HTML object>"
      ]
     },
     "metadata": {},
     "output_type": "display_data"
    },
    {
     "data": {
      "text/html": [
       "\n",
       "    <div>\n",
       "        <style>\n",
       "            /* Turns off some styling */\n",
       "            progress {\n",
       "                /* gets rid of default border in Firefox and Opera. */\n",
       "                border: none;\n",
       "                /* Needs to be in here for Safari polyfill so background images work as expected. */\n",
       "                background-size: auto;\n",
       "            }\n",
       "            .progress-bar-interrupted, .progress-bar-interrupted::-webkit-progress-bar {\n",
       "                background: #F44336;\n",
       "            }\n",
       "        </style>\n",
       "      <progress value='82' class='' max='82' style='width:300px; height:20px; vertical-align: middle;'></progress>\n",
       "      100.00% [82/82 02:26<00:00]\n",
       "    </div>\n",
       "    "
      ],
      "text/plain": [
       "<IPython.core.display.HTML object>"
      ]
     },
     "metadata": {},
     "output_type": "display_data"
    },
    {
     "data": {
      "text/html": [
       "\n",
       "    <div>\n",
       "        <style>\n",
       "            /* Turns off some styling */\n",
       "            progress {\n",
       "                /* gets rid of default border in Firefox and Opera. */\n",
       "                border: none;\n",
       "                /* Needs to be in here for Safari polyfill so background images work as expected. */\n",
       "                background-size: auto;\n",
       "            }\n",
       "            .progress-bar-interrupted, .progress-bar-interrupted::-webkit-progress-bar {\n",
       "                background: #F44336;\n",
       "            }\n",
       "        </style>\n",
       "      <progress value='50' class='' max='50' style='width:300px; height:20px; vertical-align: middle;'></progress>\n",
       "      100.00% [50/50 00:52<00:00]\n",
       "    </div>\n",
       "    "
      ],
      "text/plain": [
       "<IPython.core.display.HTML object>"
      ]
     },
     "metadata": {},
     "output_type": "display_data"
    },
    {
     "data": {
      "text/html": [
       "\n",
       "    <div>\n",
       "        <style>\n",
       "            /* Turns off some styling */\n",
       "            progress {\n",
       "                /* gets rid of default border in Firefox and Opera. */\n",
       "                border: none;\n",
       "                /* Needs to be in here for Safari polyfill so background images work as expected. */\n",
       "                background-size: auto;\n",
       "            }\n",
       "            .progress-bar-interrupted, .progress-bar-interrupted::-webkit-progress-bar {\n",
       "                background: #F44336;\n",
       "            }\n",
       "        </style>\n",
       "      <progress value='70' class='' max='70' style='width:300px; height:20px; vertical-align: middle;'></progress>\n",
       "      100.00% [70/70 01:12<00:00]\n",
       "    </div>\n",
       "    "
      ],
      "text/plain": [
       "<IPython.core.display.HTML object>"
      ]
     },
     "metadata": {},
     "output_type": "display_data"
    },
    {
     "data": {
      "text/html": [
       "\n",
       "    <div>\n",
       "        <style>\n",
       "            /* Turns off some styling */\n",
       "            progress {\n",
       "                /* gets rid of default border in Firefox and Opera. */\n",
       "                border: none;\n",
       "                /* Needs to be in here for Safari polyfill so background images work as expected. */\n",
       "                background-size: auto;\n",
       "            }\n",
       "            .progress-bar-interrupted, .progress-bar-interrupted::-webkit-progress-bar {\n",
       "                background: #F44336;\n",
       "            }\n",
       "        </style>\n",
       "      <progress value='97' class='' max='97' style='width:300px; height:20px; vertical-align: middle;'></progress>\n",
       "      100.00% [97/97 02:11<00:00]\n",
       "    </div>\n",
       "    "
      ],
      "text/plain": [
       "<IPython.core.display.HTML object>"
      ]
     },
     "metadata": {},
     "output_type": "display_data"
    },
    {
     "data": {
      "text/html": [
       "\n",
       "    <div>\n",
       "        <style>\n",
       "            /* Turns off some styling */\n",
       "            progress {\n",
       "                /* gets rid of default border in Firefox and Opera. */\n",
       "                border: none;\n",
       "                /* Needs to be in here for Safari polyfill so background images work as expected. */\n",
       "                background-size: auto;\n",
       "            }\n",
       "            .progress-bar-interrupted, .progress-bar-interrupted::-webkit-progress-bar {\n",
       "                background: #F44336;\n",
       "            }\n",
       "        </style>\n",
       "      <progress value='27' class='' max='27' style='width:300px; height:20px; vertical-align: middle;'></progress>\n",
       "      100.00% [27/27 00:14<00:00]\n",
       "    </div>\n",
       "    "
      ],
      "text/plain": [
       "<IPython.core.display.HTML object>"
      ]
     },
     "metadata": {},
     "output_type": "display_data"
    },
    {
     "data": {
      "text/html": [
       "\n",
       "    <div>\n",
       "        <style>\n",
       "            /* Turns off some styling */\n",
       "            progress {\n",
       "                /* gets rid of default border in Firefox and Opera. */\n",
       "                border: none;\n",
       "                /* Needs to be in here for Safari polyfill so background images work as expected. */\n",
       "                background-size: auto;\n",
       "            }\n",
       "            .progress-bar-interrupted, .progress-bar-interrupted::-webkit-progress-bar {\n",
       "                background: #F44336;\n",
       "            }\n",
       "        </style>\n",
       "      <progress value='35' class='' max='35' style='width:300px; height:20px; vertical-align: middle;'></progress>\n",
       "      100.00% [35/35 00:14<00:00]\n",
       "    </div>\n",
       "    "
      ],
      "text/plain": [
       "<IPython.core.display.HTML object>"
      ]
     },
     "metadata": {},
     "output_type": "display_data"
    },
    {
     "data": {
      "text/html": [
       "\n",
       "    <div>\n",
       "        <style>\n",
       "            /* Turns off some styling */\n",
       "            progress {\n",
       "                /* gets rid of default border in Firefox and Opera. */\n",
       "                border: none;\n",
       "                /* Needs to be in here for Safari polyfill so background images work as expected. */\n",
       "                background-size: auto;\n",
       "            }\n",
       "            .progress-bar-interrupted, .progress-bar-interrupted::-webkit-progress-bar {\n",
       "                background: #F44336;\n",
       "            }\n",
       "        </style>\n",
       "      <progress value='35' class='' max='35' style='width:300px; height:20px; vertical-align: middle;'></progress>\n",
       "      100.00% [35/35 00:16<00:00]\n",
       "    </div>\n",
       "    "
      ],
      "text/plain": [
       "<IPython.core.display.HTML object>"
      ]
     },
     "metadata": {},
     "output_type": "display_data"
    },
    {
     "data": {
      "text/html": [
       "\n",
       "    <div>\n",
       "        <style>\n",
       "            /* Turns off some styling */\n",
       "            progress {\n",
       "                /* gets rid of default border in Firefox and Opera. */\n",
       "                border: none;\n",
       "                /* Needs to be in here for Safari polyfill so background images work as expected. */\n",
       "                background-size: auto;\n",
       "            }\n",
       "            .progress-bar-interrupted, .progress-bar-interrupted::-webkit-progress-bar {\n",
       "                background: #F44336;\n",
       "            }\n",
       "        </style>\n",
       "      <progress value='148' class='' max='148' style='width:300px; height:20px; vertical-align: middle;'></progress>\n",
       "      100.00% [148/148 05:17<00:00]\n",
       "    </div>\n",
       "    "
      ],
      "text/plain": [
       "<IPython.core.display.HTML object>"
      ]
     },
     "metadata": {},
     "output_type": "display_data"
    },
    {
     "data": {
      "text/html": [
       "\n",
       "    <div>\n",
       "        <style>\n",
       "            /* Turns off some styling */\n",
       "            progress {\n",
       "                /* gets rid of default border in Firefox and Opera. */\n",
       "                border: none;\n",
       "                /* Needs to be in here for Safari polyfill so background images work as expected. */\n",
       "                background-size: auto;\n",
       "            }\n",
       "            .progress-bar-interrupted, .progress-bar-interrupted::-webkit-progress-bar {\n",
       "                background: #F44336;\n",
       "            }\n",
       "        </style>\n",
       "      <progress value='66' class='' max='66' style='width:300px; height:20px; vertical-align: middle;'></progress>\n",
       "      100.00% [66/66 01:07<00:00]\n",
       "    </div>\n",
       "    "
      ],
      "text/plain": [
       "<IPython.core.display.HTML object>"
      ]
     },
     "metadata": {},
     "output_type": "display_data"
    },
    {
     "data": {
      "text/html": [
       "\n",
       "    <div>\n",
       "        <style>\n",
       "            /* Turns off some styling */\n",
       "            progress {\n",
       "                /* gets rid of default border in Firefox and Opera. */\n",
       "                border: none;\n",
       "                /* Needs to be in here for Safari polyfill so background images work as expected. */\n",
       "                background-size: auto;\n",
       "            }\n",
       "            .progress-bar-interrupted, .progress-bar-interrupted::-webkit-progress-bar {\n",
       "                background: #F44336;\n",
       "            }\n",
       "        </style>\n",
       "      <progress value='171' class='' max='171' style='width:300px; height:20px; vertical-align: middle;'></progress>\n",
       "      100.00% [171/171 03:55<00:00]\n",
       "    </div>\n",
       "    "
      ],
      "text/plain": [
       "<IPython.core.display.HTML object>"
      ]
     },
     "metadata": {},
     "output_type": "display_data"
    },
    {
     "data": {
      "text/html": [
       "\n",
       "    <div>\n",
       "        <style>\n",
       "            /* Turns off some styling */\n",
       "            progress {\n",
       "                /* gets rid of default border in Firefox and Opera. */\n",
       "                border: none;\n",
       "                /* Needs to be in here for Safari polyfill so background images work as expected. */\n",
       "                background-size: auto;\n",
       "            }\n",
       "            .progress-bar-interrupted, .progress-bar-interrupted::-webkit-progress-bar {\n",
       "                background: #F44336;\n",
       "            }\n",
       "        </style>\n",
       "      <progress value='31' class='' max='31' style='width:300px; height:20px; vertical-align: middle;'></progress>\n",
       "      100.00% [31/31 00:14<00:00]\n",
       "    </div>\n",
       "    "
      ],
      "text/plain": [
       "<IPython.core.display.HTML object>"
      ]
     },
     "metadata": {},
     "output_type": "display_data"
    },
    {
     "data": {
      "text/html": [
       "\n",
       "    <div>\n",
       "        <style>\n",
       "            /* Turns off some styling */\n",
       "            progress {\n",
       "                /* gets rid of default border in Firefox and Opera. */\n",
       "                border: none;\n",
       "                /* Needs to be in here for Safari polyfill so background images work as expected. */\n",
       "                background-size: auto;\n",
       "            }\n",
       "            .progress-bar-interrupted, .progress-bar-interrupted::-webkit-progress-bar {\n",
       "                background: #F44336;\n",
       "            }\n",
       "        </style>\n",
       "      <progress value='78' class='' max='78' style='width:300px; height:20px; vertical-align: middle;'></progress>\n",
       "      100.00% [78/78 01:16<00:00]\n",
       "    </div>\n",
       "    "
      ],
      "text/plain": [
       "<IPython.core.display.HTML object>"
      ]
     },
     "metadata": {},
     "output_type": "display_data"
    },
    {
     "data": {
      "text/html": [
       "\n",
       "    <div>\n",
       "        <style>\n",
       "            /* Turns off some styling */\n",
       "            progress {\n",
       "                /* gets rid of default border in Firefox and Opera. */\n",
       "                border: none;\n",
       "                /* Needs to be in here for Safari polyfill so background images work as expected. */\n",
       "                background-size: auto;\n",
       "            }\n",
       "            .progress-bar-interrupted, .progress-bar-interrupted::-webkit-progress-bar {\n",
       "                background: #F44336;\n",
       "            }\n",
       "        </style>\n",
       "      <progress value='54' class='' max='54' style='width:300px; height:20px; vertical-align: middle;'></progress>\n",
       "      100.00% [54/54 01:29<00:00]\n",
       "    </div>\n",
       "    "
      ],
      "text/plain": [
       "<IPython.core.display.HTML object>"
      ]
     },
     "metadata": {},
     "output_type": "display_data"
    },
    {
     "data": {
      "text/html": [
       "\n",
       "    <div>\n",
       "        <style>\n",
       "            /* Turns off some styling */\n",
       "            progress {\n",
       "                /* gets rid of default border in Firefox and Opera. */\n",
       "                border: none;\n",
       "                /* Needs to be in here for Safari polyfill so background images work as expected. */\n",
       "                background-size: auto;\n",
       "            }\n",
       "            .progress-bar-interrupted, .progress-bar-interrupted::-webkit-progress-bar {\n",
       "                background: #F44336;\n",
       "            }\n",
       "        </style>\n",
       "      <progress value='78' class='' max='78' style='width:300px; height:20px; vertical-align: middle;'></progress>\n",
       "      100.00% [78/78 01:27<00:00]\n",
       "    </div>\n",
       "    "
      ],
      "text/plain": [
       "<IPython.core.display.HTML object>"
      ]
     },
     "metadata": {},
     "output_type": "display_data"
    },
    {
     "data": {
      "text/html": [
       "\n",
       "    <div>\n",
       "        <style>\n",
       "            /* Turns off some styling */\n",
       "            progress {\n",
       "                /* gets rid of default border in Firefox and Opera. */\n",
       "                border: none;\n",
       "                /* Needs to be in here for Safari polyfill so background images work as expected. */\n",
       "                background-size: auto;\n",
       "            }\n",
       "            .progress-bar-interrupted, .progress-bar-interrupted::-webkit-progress-bar {\n",
       "                background: #F44336;\n",
       "            }\n",
       "        </style>\n",
       "      <progress value='70' class='' max='70' style='width:300px; height:20px; vertical-align: middle;'></progress>\n",
       "      100.00% [70/70 00:49<00:00]\n",
       "    </div>\n",
       "    "
      ],
      "text/plain": [
       "<IPython.core.display.HTML object>"
      ]
     },
     "metadata": {},
     "output_type": "display_data"
    },
    {
     "data": {
      "text/html": [
       "\n",
       "    <div>\n",
       "        <style>\n",
       "            /* Turns off some styling */\n",
       "            progress {\n",
       "                /* gets rid of default border in Firefox and Opera. */\n",
       "                border: none;\n",
       "                /* Needs to be in here for Safari polyfill so background images work as expected. */\n",
       "                background-size: auto;\n",
       "            }\n",
       "            .progress-bar-interrupted, .progress-bar-interrupted::-webkit-progress-bar {\n",
       "                background: #F44336;\n",
       "            }\n",
       "        </style>\n",
       "      <progress value='89' class='' max='89' style='width:300px; height:20px; vertical-align: middle;'></progress>\n",
       "      100.00% [89/89 01:14<00:00]\n",
       "    </div>\n",
       "    "
      ],
      "text/plain": [
       "<IPython.core.display.HTML object>"
      ]
     },
     "metadata": {},
     "output_type": "display_data"
    },
    {
     "data": {
      "text/html": [
       "\n",
       "    <div>\n",
       "        <style>\n",
       "            /* Turns off some styling */\n",
       "            progress {\n",
       "                /* gets rid of default border in Firefox and Opera. */\n",
       "                border: none;\n",
       "                /* Needs to be in here for Safari polyfill so background images work as expected. */\n",
       "                background-size: auto;\n",
       "            }\n",
       "            .progress-bar-interrupted, .progress-bar-interrupted::-webkit-progress-bar {\n",
       "                background: #F44336;\n",
       "            }\n",
       "        </style>\n",
       "      <progress value='31' class='' max='31' style='width:300px; height:20px; vertical-align: middle;'></progress>\n",
       "      100.00% [31/31 00:29<00:00]\n",
       "    </div>\n",
       "    "
      ],
      "text/plain": [
       "<IPython.core.display.HTML object>"
      ]
     },
     "metadata": {},
     "output_type": "display_data"
    },
    {
     "data": {
      "text/html": [
       "\n",
       "    <div>\n",
       "        <style>\n",
       "            /* Turns off some styling */\n",
       "            progress {\n",
       "                /* gets rid of default border in Firefox and Opera. */\n",
       "                border: none;\n",
       "                /* Needs to be in here for Safari polyfill so background images work as expected. */\n",
       "                background-size: auto;\n",
       "            }\n",
       "            .progress-bar-interrupted, .progress-bar-interrupted::-webkit-progress-bar {\n",
       "                background: #F44336;\n",
       "            }\n",
       "        </style>\n",
       "      <progress value='39' class='' max='39' style='width:300px; height:20px; vertical-align: middle;'></progress>\n",
       "      100.00% [39/39 00:24<00:00]\n",
       "    </div>\n",
       "    "
      ],
      "text/plain": [
       "<IPython.core.display.HTML object>"
      ]
     },
     "metadata": {},
     "output_type": "display_data"
    },
    {
     "data": {
      "text/html": [
       "\n",
       "    <div>\n",
       "        <style>\n",
       "            /* Turns off some styling */\n",
       "            progress {\n",
       "                /* gets rid of default border in Firefox and Opera. */\n",
       "                border: none;\n",
       "                /* Needs to be in here for Safari polyfill so background images work as expected. */\n",
       "                background-size: auto;\n",
       "            }\n",
       "            .progress-bar-interrupted, .progress-bar-interrupted::-webkit-progress-bar {\n",
       "                background: #F44336;\n",
       "            }\n",
       "        </style>\n",
       "      <progress value='35' class='' max='35' style='width:300px; height:20px; vertical-align: middle;'></progress>\n",
       "      100.00% [35/35 00:13<00:00]\n",
       "    </div>\n",
       "    "
      ],
      "text/plain": [
       "<IPython.core.display.HTML object>"
      ]
     },
     "metadata": {},
     "output_type": "display_data"
    }
   ],
   "source": [
    "patch_size = 512\n",
    "# overlap = 0\n",
    "\n",
    "sqr_patch_size = patch_size * patch_size\n",
    "thres_blank =  int(0.1 * patch_size * patch_size)\n",
    "thres_tumor =  int(0.1 * patch_size * patch_size)\n",
    "thres_blank2 = int(0.5 * patch_size * patch_size)\n",
    "\n",
    "image_id = 1\n",
    "count_frequency = 1\n",
    "\n",
    "for types in [1]:\n",
    "    for mask_id in progress_bar(range(0,100)):\n",
    "        if(os.path.exists(r'./train/train/' + str(types) + '/bad/' + str(types) + '_' + str(mask_id) + r'.xml')==True and os.path.exists(r'./train/train/' + str(types) + '/svs/' + str(types) + '_' + str(mask_id) + r'.svs')==True):\n",
    "            \n",
    "            tif = ops.open_slide(r'./train/train/' + str(types) + '/svs/' + str(types) + '_' + str(mask_id) + r'.svs')\n",
    "\n",
    "            god_img_mask = copy.deepcopy(np.asarray(Image.open(r'./train/train/' + str(types) + '/svs/' + str(types) + '_' + str(mask_id) + r'_good.png')))\n",
    "            bad_img_mask = copy.deepcopy(np.asarray(Image.open(r'./train/train/' + str(types) + '/svs/' + str(types) + '_' + str(mask_id) + r'_bad.png')))\n",
    "\n",
    "\n",
    "#             total_size = tif.dimensions\n",
    "            total_size = bad_img_mask.shape[1],bad_img_mask.shape[0]\n",
    "\n",
    "            for x in progress_bar(range(0,total_size[0]-patch_size, patch_size)):\n",
    "                for y in range(0,total_size[1]-patch_size, patch_size):\n",
    "\n",
    "\n",
    "                    bad_img_mask_temp = copy.deepcopy(bad_img_mask[y:y+patch_size,x:x+patch_size])\n",
    "                    god_img_mask_temp = copy.deepcopy(god_img_mask[y:y+patch_size,x:x+patch_size])\n",
    "                    \n",
    "                    bad_img_type = np.sum(bad_img_mask_temp>10)\n",
    "                    god_img_type = np.sum(god_img_mask_temp>10)\n",
    "                    \n",
    "                    if(bad_img_type > thres_tumor):\n",
    "                        #属于肿瘤\n",
    "\n",
    "                        patch_temp = np.asarray(tif.read_region((x,y),0,(patch_size,patch_size)))[:,:,:3]\n",
    "                        arraysum = np.sum(patch_temp, axis=2)\n",
    "                        temp_arraysum = copy.deepcopy(arraysum)\n",
    "                        patch_nonwhite = np.sum(arraysum<550)\n",
    "\n",
    "                        if(patch_nonwhite >thres_blank):\n",
    "                            \n",
    "                            temp_arraysum[temp_arraysum>550]  = 0\n",
    "                            temp_arraysum[temp_arraysum!=0]  = 1\n",
    "                            bad_img_mask_temp = bad_img_mask_temp*temp_arraysum\n",
    "                            positive_non_white = np.sum(bad_img_mask_temp>10)\n",
    "                            positive_ratio = round(positive_non_white/sqr_patch_size,5)\n",
    "                            \n",
    "                            if(god_img_type >thres_tumor):\n",
    "                                god_img_label = 1\n",
    "                            else:\n",
    "                                god_img_label = 0\n",
    "                            \n",
    "                            Image.fromarray(patch_temp).resize((256,256)).save(r'./train/patch' + str(patch_size) + '/' + str(types) + '_' + str(mask_id) + '_%07d_'%(image_id) + '1_' + str(positive_ratio) + '_' + str(god_img_label) + '.png' )\n",
    "\n",
    "                            image_id+=1\n",
    "#                             count_frequency+=1\n",
    "\n",
    "                    if(bad_img_type < 3 ):\n",
    "\n",
    "                        patch_temp = np.asarray(tif.read_region((x,y),0,(patch_size,patch_size)))[:,:,:3]\n",
    "                        arraysum = np.sum(patch_temp, axis=2)\n",
    "                        god_img_mask_temp = copy.deepcopy(god_img_mask[y:y+patch_size,x:x+patch_size])\n",
    "                        god_img_type = np.sum(god_img_mask_temp>10)\n",
    "                        #判断黑色面积\n",
    "                        patch_black = np.sum(arraysum<5) + np.sum(arraysum>550)\n",
    "\n",
    "                        if(patch_black < thres_blank2):\n",
    "#                             count_frequency += 1\n",
    "#                             if(count_frequency%5000 == 0 ):\n",
    "#                                 patch_nonwhite = 200000\n",
    "\n",
    "#                         if(patch_nonwhite < thres_blank2):\n",
    "        \n",
    "                            if(god_img_type >thres_tumor):\n",
    "                                god_img_label = 1\n",
    "                            else:\n",
    "                                god_img_label = 0\n",
    "                                \n",
    "                            Image.fromarray(patch_temp).resize((256,256)).save(r'./train/patch' + str(patch_size) + '/' + str(types) + '_' + str(mask_id) + '_%07d_'%(image_id) + '0_0_' + str(god_img_label) + '.png' )\n",
    "    #                             print((r'/home/q/3t/patches/patch/' + str(dataset) + '_%07d_10'%(image_id) + '0000000000' + '.bmp' ), patch_black)\n",
    "\n",
    "                            image_id+=1\n",
    "\n"
   ]
  },
  {
   "cell_type": "code",
   "execution_count": 66,
   "id": "662f3273",
   "metadata": {},
   "outputs": [
    {
     "data": {
      "text/plain": [
       "'./train/train/1/svs/1_4_good.png'"
      ]
     },
     "execution_count": 66,
     "metadata": {},
     "output_type": "execute_result"
    }
   ],
   "source": [
    "'./train/train/' + str(types) + '/svs/' + str(types) + '_' + str(mask_id) + r'_good.png'"
   ]
  },
  {
   "cell_type": "code",
   "execution_count": 79,
   "id": "ddfa4fd9",
   "metadata": {},
   "outputs": [
    {
     "data": {
      "image/png": "[encoded data removed]",
      "text/plain": [
       "<PIL.Image.Image image mode=RGB size=256x256 at 0x7F87CDAEBBE0>"
      ]
     },
     "execution_count": 79,
     "metadata": {},
     "output_type": "execute_result"
    }
   ],
   "source": [
    "Image.fromarray(patch_temp).resize((256,256))"
   ]
  },
  {
   "cell_type": "code",
   "execution_count": null,
   "id": "de48597d",
   "metadata": {},
   "outputs": [],
   "source": []
  }
 ],
 "metadata": {
  "kernelspec": {
   "display_name": "3",
   "language": "python",
   "name": "3"
  },
  "language_info": {
   "codemirror_mode": {
    "name": "ipython",
    "version": 3
   },
   "file_extension": ".py",
   "mimetype": "text/x-python",
   "name": "python",
   "nbconvert_exporter": "python",
   "pygments_lexer": "ipython3",
   "version": "3.6.10"
  }
 },
 "nbformat": 4,
 "nbformat_minor": 5
}
